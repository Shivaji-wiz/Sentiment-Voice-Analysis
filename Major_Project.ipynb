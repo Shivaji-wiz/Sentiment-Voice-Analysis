{
  "nbformat": 4,
  "nbformat_minor": 0,
  "metadata": {
    "colab": {
      "name": "Major_Project.ipynb",
      "provenance": [],
      "authorship_tag": "ABX9TyOkETClWoaeeygG6wUmqSAC",
      "include_colab_link": true
    },
    "kernelspec": {
      "name": "python3",
      "display_name": "Python 3"
    },
    "language_info": {
      "name": "python"
    }
  },
  "cells": [
    {
      "cell_type": "markdown",
      "metadata": {
        "id": "view-in-github",
        "colab_type": "text"
      },
      "source": [
        "<a href=\"https://colab.research.google.com/github/shailendrapr/Sentiment-Voice-Analysis/blob/main/Major_Project.ipynb\" target=\"_parent\"><img src=\"https://colab.research.google.com/assets/colab-badge.svg\" alt=\"Open In Colab\"/></a>"
      ]
    },
    {
      "cell_type": "code",
      "source": [
        "!pip install librosa"
      ],
      "metadata": {
        "colab": {
          "base_uri": "https://localhost:8080/"
        },
        "id": "tBM8QwpGUUxC",
        "outputId": "cd5eb90c-668c-4013-c3d8-7f2417eb6ed5"
      },
      "execution_count": 2,
      "outputs": [
        {
          "output_type": "stream",
          "name": "stdout",
          "text": [
            "Requirement already satisfied: librosa in /usr/local/lib/python3.7/dist-packages (0.8.1)\n",
            "Requirement already satisfied: scikit-learn!=0.19.0,>=0.14.0 in /usr/local/lib/python3.7/dist-packages (from librosa) (1.0.2)\n",
            "Requirement already satisfied: numpy>=1.15.0 in /usr/local/lib/python3.7/dist-packages (from librosa) (1.21.6)\n",
            "Requirement already satisfied: decorator>=3.0.0 in /usr/local/lib/python3.7/dist-packages (from librosa) (4.4.2)\n",
            "Requirement already satisfied: joblib>=0.14 in /usr/local/lib/python3.7/dist-packages (from librosa) (1.1.0)\n",
            "Requirement already satisfied: pooch>=1.0 in /usr/local/lib/python3.7/dist-packages (from librosa) (1.6.0)\n",
            "Requirement already satisfied: packaging>=20.0 in /usr/local/lib/python3.7/dist-packages (from librosa) (21.3)\n",
            "Requirement already satisfied: resampy>=0.2.2 in /usr/local/lib/python3.7/dist-packages (from librosa) (0.2.2)\n",
            "Requirement already satisfied: scipy>=1.0.0 in /usr/local/lib/python3.7/dist-packages (from librosa) (1.4.1)\n",
            "Requirement already satisfied: soundfile>=0.10.2 in /usr/local/lib/python3.7/dist-packages (from librosa) (0.10.3.post1)\n",
            "Requirement already satisfied: audioread>=2.0.0 in /usr/local/lib/python3.7/dist-packages (from librosa) (2.1.9)\n",
            "Requirement already satisfied: numba>=0.43.0 in /usr/local/lib/python3.7/dist-packages (from librosa) (0.51.2)\n",
            "Requirement already satisfied: setuptools in /usr/local/lib/python3.7/dist-packages (from numba>=0.43.0->librosa) (57.4.0)\n",
            "Requirement already satisfied: llvmlite<0.35,>=0.34.0.dev0 in /usr/local/lib/python3.7/dist-packages (from numba>=0.43.0->librosa) (0.34.0)\n",
            "Requirement already satisfied: pyparsing!=3.0.5,>=2.0.2 in /usr/local/lib/python3.7/dist-packages (from packaging>=20.0->librosa) (3.0.8)\n",
            "Requirement already satisfied: appdirs>=1.3.0 in /usr/local/lib/python3.7/dist-packages (from pooch>=1.0->librosa) (1.4.4)\n",
            "Requirement already satisfied: requests>=2.19.0 in /usr/local/lib/python3.7/dist-packages (from pooch>=1.0->librosa) (2.23.0)\n",
            "Requirement already satisfied: idna<3,>=2.5 in /usr/local/lib/python3.7/dist-packages (from requests>=2.19.0->pooch>=1.0->librosa) (2.10)\n",
            "Requirement already satisfied: urllib3!=1.25.0,!=1.25.1,<1.26,>=1.21.1 in /usr/local/lib/python3.7/dist-packages (from requests>=2.19.0->pooch>=1.0->librosa) (1.24.3)\n",
            "Requirement already satisfied: certifi>=2017.4.17 in /usr/local/lib/python3.7/dist-packages (from requests>=2.19.0->pooch>=1.0->librosa) (2021.10.8)\n",
            "Requirement already satisfied: chardet<4,>=3.0.2 in /usr/local/lib/python3.7/dist-packages (from requests>=2.19.0->pooch>=1.0->librosa) (3.0.4)\n",
            "Requirement already satisfied: six>=1.3 in /usr/local/lib/python3.7/dist-packages (from resampy>=0.2.2->librosa) (1.15.0)\n",
            "Requirement already satisfied: threadpoolctl>=2.0.0 in /usr/local/lib/python3.7/dist-packages (from scikit-learn!=0.19.0,>=0.14.0->librosa) (3.1.0)\n",
            "Requirement already satisfied: cffi>=1.0 in /usr/local/lib/python3.7/dist-packages (from soundfile>=0.10.2->librosa) (1.15.0)\n",
            "Requirement already satisfied: pycparser in /usr/local/lib/python3.7/dist-packages (from cffi>=1.0->soundfile>=0.10.2->librosa) (2.21)\n"
          ]
        }
      ]
    },
    {
      "cell_type": "code",
      "source": [
        "import librosa\n",
        "from librosa import display\n",
        "\n",
        "data, sampling_rate = librosa.load('/content/Emotion-Classification-Ravdess/Ravtess/Actor_01/03-01-01-01-02-01-01.wav')"
      ],
      "metadata": {
        "id": "6FPGKa8XU9jy"
      },
      "execution_count": 3,
      "outputs": []
    },
    {
      "cell_type": "code",
      "source": [
        "% pylab inline\n",
        "import matplotlib.pyplot as plt\n",
        "\n",
        "plt.figure(figsize=(12, 4))\n",
        "librosa.display.waveplot(data, sr=sampling_rate)"
      ],
      "metadata": {
        "colab": {
          "base_uri": "https://localhost:8080/",
          "height": 366
        },
        "id": "xELffZ9tVNPI",
        "outputId": "47e90d97-49f1-4e4e-8d38-29a71db03077"
      },
      "execution_count": 4,
      "outputs": [
        {
          "output_type": "stream",
          "name": "stdout",
          "text": [
            "Populating the interactive namespace from numpy and matplotlib\n"
          ]
        },
        {
          "output_type": "stream",
          "name": "stderr",
          "text": [
            "/usr/local/lib/python3.7/dist-packages/IPython/core/magics/pylab.py:161: UserWarning: pylab import has clobbered these variables: ['display']\n",
            "`%matplotlib` prevents importing * from pylab and numpy\n",
            "  \"\\n`%matplotlib` prevents importing * from pylab and numpy\"\n"
          ]
        },
        {
          "output_type": "execute_result",
          "data": {
            "text/plain": [
              "<matplotlib.collections.PolyCollection at 0x7f5b3624b350>"
            ]
          },
          "metadata": {},
          "execution_count": 4
        },
        {
          "output_type": "display_data",
          "data": {
            "text/plain": [
              "<Figure size 864x288 with 1 Axes>"
            ],
            "image/png": "[encoded data removed]"
          },
          "metadata": {
            "needs_background": "light"
          }
        }
      ]
    },
    {
      "cell_type": "code",
      "source": [
        "import time\n",
        "import os\n",
        "path = '/content/Emotion-Classification-Ravdess/Ravtess'\n",
        "lst = []\n",
        "\n",
        "start_time = time.time()\n",
        "\n",
        "for subdir, dirs, files in os.walk(path):\n",
        "  for file in files:\n",
        "      try:\n",
        "        #Load librosa array, obtain mfcss, store the file and the mcss information in a new array\n",
        "        X, sample_rate = librosa.load(os.path.join(subdir,file), res_type='kaiser_fast')\n",
        "        mfccs = np.mean(librosa.feature.mfcc(y=X, sr=sample_rate, n_mfcc=40).T,axis=0) \n",
        "        # The instruction below converts the labels (from 1 to 8) to a series from 0 to 7\n",
        "        # This is because our predictor needs to start from 0 otherwise it will try to predict also 0.\n",
        "        file = int(file[7:8]) - 1 \n",
        "        arr = mfccs, file\n",
        "        lst.append(arr)\n",
        "      # If the file is not valid, skip it\n",
        "      except ValueError:\n",
        "        continue\n",
        "\n",
        "print(\"--- Data loaded. Loading time: %s seconds ---\" % (time.time() - start_time))"
      ],
      "metadata": {
        "colab": {
          "base_uri": "https://localhost:8080/"
        },
        "id": "ORiboiRhVRG4",
        "outputId": "c83a304d-bd2e-4d74-8045-716bfaf3dd5d"
      },
      "execution_count": 6,
      "outputs": [
        {
          "output_type": "stream",
          "name": "stdout",
          "text": [
            "--- Data loaded. Loading time: 311.57203555107117 seconds ---\n"
          ]
        }
      ]
    },
    {
      "cell_type": "code",
      "source": [
        "# Creating X and y: zip makes a list of all the first elements, and a list of all the second elements.\n",
        "X, y = zip(*lst)"
      ],
      "metadata": {
        "id": "_v7kW93XVbb-"
      },
      "execution_count": 7,
      "outputs": []
    },
    {
      "cell_type": "code",
      "source": [
        "import numpy as np\n",
        "X = np.asarray(X)\n",
        "y = np.asarray(y)\n",
        "\n",
        "\n",
        "X.shape, y.shape"
      ],
      "metadata": {
        "colab": {
          "base_uri": "https://localhost:8080/"
        },
        "id": "EmsuuQCIX-P5",
        "outputId": "137145e3-07b1-462d-c002-1eb76c3e19b3"
      },
      "execution_count": 8,
      "outputs": [
        {
          "output_type": "execute_result",
          "data": {
            "text/plain": [
              "((5252, 40), (5252,))"
            ]
          },
          "metadata": {},
          "execution_count": 8
        }
      ]
    },
    {
      "cell_type": "code",
      "source": [
        "# Saving joblib files to not load them again with the loop above\n",
        "\n",
        "import joblib\n",
        "\n",
        "X_name = 'X.joblib'\n",
        "y_name = 'y.joblib'\n",
        "save_dir = '/content/Emotion-Classification-Ravdess/Ravtess_model'\n",
        "\n",
        "savedX = joblib.dump(X, os.path.join(save_dir, X_name))\n",
        "savedy = joblib.dump(y, os.path.join(save_dir, y_name))"
      ],
      "metadata": {
        "id": "lBF4uWjPYBHL"
      },
      "execution_count": 10,
      "outputs": []
    },
    {
      "cell_type": "code",
      "source": [
        "import joblib\n",
        "X = joblib.load('/content/Emotion-Classification-Ravdess/Ravtess_model/X.joblib')\n",
        "y = joblib.load('/content/Emotion-Classification-Ravdess/Ravtess_model/y.joblib')"
      ],
      "metadata": {
        "id": "RY0qFuNkYD6t"
      },
      "execution_count": 12,
      "outputs": []
    },
    {
      "cell_type": "code",
      "source": [
        "from sklearn.model_selection import train_test_split\n",
        "\n",
        "X_train, X_test, y_train, y_test = train_test_split(X,y, test_size=0.33, random_state=42)"
      ],
      "metadata": {
        "id": "6SyNBzSPZDzx"
      },
      "execution_count": 13,
      "outputs": []
    },
    {
      "cell_type": "code",
      "source": [
        "from sklearn.tree import DecisionTreeClassifier"
      ],
      "metadata": {
        "id": "-TSHeU9sZZSN"
      },
      "execution_count": 14,
      "outputs": []
    },
    {
      "cell_type": "code",
      "source": [
        "dtree = DecisionTreeClassifier()"
      ],
      "metadata": {
        "id": "KsA9h6oKZcKp"
      },
      "execution_count": 15,
      "outputs": []
    },
    {
      "cell_type": "code",
      "source": [
        "dtree.fit(X_train, y_train)"
      ],
      "metadata": {
        "colab": {
          "base_uri": "https://localhost:8080/"
        },
        "id": "IWy2uQYDZeZi",
        "outputId": "b8dda1f2-9f94-43e6-8cce-cb4456da5eda"
      },
      "execution_count": 16,
      "outputs": [
        {
          "output_type": "execute_result",
          "data": {
            "text/plain": [
              "DecisionTreeClassifier()"
            ]
          },
          "metadata": {},
          "execution_count": 16
        }
      ]
    },
    {
      "cell_type": "code",
      "source": [
        "predictions = dtree.predict(X_test)"
      ],
      "metadata": {
        "id": "YSkAJkmhZg9f"
      },
      "execution_count": 17,
      "outputs": []
    },
    {
      "cell_type": "code",
      "source": [
        "from sklearn.metrics import classification_report,confusion_matrix\n",
        "print(classification_report(y_test,predictions))"
      ],
      "metadata": {
        "colab": {
          "base_uri": "https://localhost:8080/"
        },
        "id": "ZMXq55ysZrUe",
        "outputId": "0a7b8abf-b32a-4051-b383-fd2f6aef9c42"
      },
      "execution_count": 18,
      "outputs": [
        {
          "output_type": "stream",
          "name": "stdout",
          "text": [
            "              precision    recall  f1-score   support\n",
            "\n",
            "           0       0.78      0.81      0.79       200\n",
            "           1       0.59      0.50      0.54       144\n",
            "           2       0.61      0.62      0.62       250\n",
            "           3       0.69      0.64      0.67       249\n",
            "           4       0.69      0.73      0.71       235\n",
            "           5       0.63      0.72      0.67       252\n",
            "           6       0.70      0.65      0.67       200\n",
            "           7       0.67      0.64      0.66       204\n",
            "\n",
            "    accuracy                           0.67      1734\n",
            "   macro avg       0.67      0.66      0.67      1734\n",
            "weighted avg       0.67      0.67      0.67      1734\n",
            "\n"
          ]
        }
      ]
    },
    {
      "cell_type": "code",
      "source": [
        "import numpy as np\n",
        "x_traincnn = np.expand_dims(X_train, axis=2)\n",
        "x_testcnn = np.expand_dims(X_test, axis=2)"
      ],
      "metadata": {
        "id": "OZHOE7HgZuVT"
      },
      "execution_count": 19,
      "outputs": []
    },
    {
      "cell_type": "code",
      "source": [
        "x_traincnn.shape, x_testcnn.shape"
      ],
      "metadata": {
        "colab": {
          "base_uri": "https://localhost:8080/"
        },
        "id": "p1Fb08C8Z1_W",
        "outputId": "41030ced-a918-40c8-d985-e8a19b9fe1a5"
      },
      "execution_count": 20,
      "outputs": [
        {
          "output_type": "execute_result",
          "data": {
            "text/plain": [
              "((3518, 40, 1), (1734, 40, 1))"
            ]
          },
          "metadata": {},
          "execution_count": 20
        }
      ]
    },
    {
      "cell_type": "code",
      "source": [
        "from tensorflow import keras\n",
        "import numpy as np\n",
        "import matplotlib.pyplot as plt\n",
        "import tensorflow as tf\n",
        "from tensorflow.keras.utils import to_categorical\n",
        "from keras.preprocessing import sequence\n",
        "from keras.models import Sequential\n",
        "from keras.layers import Dense, Embedding\n",
        "from keras.layers import Input, Flatten, Dropout, Activation\n",
        "from keras.layers import Conv1D, MaxPooling1D\n",
        "from keras.models import Model\n",
        "from keras.callbacks import ModelCheckpoint\n",
        "\n",
        "model = Sequential()\n",
        "\n",
        "model.add(Conv1D(64, 5,padding='same',\n",
        "                 input_shape=(40,1)))\n",
        "model.add(Activation('relu'))\n",
        "model.add(Dropout(0.1))\n",
        "model.add(MaxPooling1D(pool_size=(4)))\n",
        "model.add(Conv1D(128, 5,padding='same',))\n",
        "model.add(Activation('relu'))\n",
        "model.add(Dropout(0.1))\n",
        "model.add(MaxPooling1D(pool_size=(4)))\n",
        "model.add(Conv1D(256, 5,padding='same',))\n",
        "model.add(Activation('relu'))\n",
        "model.add(Dropout(0.1))\n",
        "model.add(Flatten())\n",
        "model.add(Dense(8))\n",
        "model.add(Activation('softmax'))\n",
        "opt = keras.optimizers.RMSprop(learning_rate=0.00005, rho=0.9, epsilon=1e-07, decay=0.0)"
      ],
      "metadata": {
        "id": "dNsltl4ZZ32W"
      },
      "execution_count": 25,
      "outputs": []
    },
    {
      "cell_type": "code",
      "source": [
        "model.summary()"
      ],
      "metadata": {
        "colab": {
          "base_uri": "https://localhost:8080/"
        },
        "id": "ggO8ZqYXZ97J",
        "outputId": "dcf44850-9ddd-4170-d55d-4380af5799cd"
      },
      "execution_count": 26,
      "outputs": [
        {
          "output_type": "stream",
          "name": "stdout",
          "text": [
            "Model: \"sequential_3\"\n",
            "_________________________________________________________________\n",
            " Layer (type)                Output Shape              Param #   \n",
            "=================================================================\n",
            " conv1d_9 (Conv1D)           (None, 40, 64)            384       \n",
            "                                                                 \n",
            " activation_12 (Activation)  (None, 40, 64)            0         \n",
            "                                                                 \n",
            " dropout_9 (Dropout)         (None, 40, 64)            0         \n",
            "                                                                 \n",
            " max_pooling1d_6 (MaxPooling  (None, 10, 64)           0         \n",
            " 1D)                                                             \n",
            "                                                                 \n",
            " conv1d_10 (Conv1D)          (None, 10, 128)           41088     \n",
            "                                                                 \n",
            " activation_13 (Activation)  (None, 10, 128)           0         \n",
            "                                                                 \n",
            " dropout_10 (Dropout)        (None, 10, 128)           0         \n",
            "                                                                 \n",
            " max_pooling1d_7 (MaxPooling  (None, 2, 128)           0         \n",
            " 1D)                                                             \n",
            "                                                                 \n",
            " conv1d_11 (Conv1D)          (None, 2, 256)            164096    \n",
            "                                                                 \n",
            " activation_14 (Activation)  (None, 2, 256)            0         \n",
            "                                                                 \n",
            " dropout_11 (Dropout)        (None, 2, 256)            0         \n",
            "                                                                 \n",
            " flatten_3 (Flatten)         (None, 512)               0         \n",
            "                                                                 \n",
            " dense_3 (Dense)             (None, 8)                 4104      \n",
            "                                                                 \n",
            " activation_15 (Activation)  (None, 8)                 0         \n",
            "                                                                 \n",
            "=================================================================\n",
            "Total params: 209,672\n",
            "Trainable params: 209,672\n",
            "Non-trainable params: 0\n",
            "_________________________________________________________________\n"
          ]
        }
      ]
    },
    {
      "cell_type": "code",
      "source": [
        "model.compile(loss='sparse_categorical_crossentropy',\n",
        "              optimizer=opt,\n",
        "              metrics=['accuracy'])"
      ],
      "metadata": {
        "id": "O-_zWZENa49Z"
      },
      "execution_count": 27,
      "outputs": []
    },
    {
      "cell_type": "code",
      "source": [
        "cnnhistory=model.fit(x_traincnn, y_train, batch_size=16, epochs=200, validation_data=(x_testcnn, y_test))"
      ],
      "metadata": {
        "colab": {
          "base_uri": "https://localhost:8080/"
        },
        "id": "LmeOlJFva8hM",
        "outputId": "3c114b22-9c20-4de7-e238-6acdf4b4ab8d"
      },
      "execution_count": 28,
      "outputs": [
        {
          "output_type": "stream",
          "name": "stdout",
          "text": [
            "Epoch 1/200\n",
            "220/220 [==============================] - 9s 32ms/step - loss: 4.3104 - accuracy: 0.1728 - val_loss: 1.8011 - val_accuracy: 0.3766\n",
            "Epoch 2/200\n",
            "220/220 [==============================] - 4s 16ms/step - loss: 2.5519 - accuracy: 0.2888 - val_loss: 1.5019 - val_accuracy: 0.4960\n",
            "Epoch 3/200\n",
            "220/220 [==============================] - 3s 16ms/step - loss: 1.9512 - accuracy: 0.3846 - val_loss: 1.4028 - val_accuracy: 0.5063\n",
            "Epoch 4/200\n",
            "220/220 [==============================] - 3s 15ms/step - loss: 1.6555 - accuracy: 0.4466 - val_loss: 1.3071 - val_accuracy: 0.5565\n",
            "Epoch 5/200\n",
            "220/220 [==============================] - 4s 16ms/step - loss: 1.4910 - accuracy: 0.4955 - val_loss: 1.2242 - val_accuracy: 0.5882\n",
            "Epoch 6/200\n",
            "220/220 [==============================] - 3s 16ms/step - loss: 1.3724 - accuracy: 0.5347 - val_loss: 1.1217 - val_accuracy: 0.6153\n",
            "Epoch 7/200\n",
            "220/220 [==============================] - 4s 16ms/step - loss: 1.2668 - accuracy: 0.5617 - val_loss: 1.0815 - val_accuracy: 0.6078\n",
            "Epoch 8/200\n",
            "220/220 [==============================] - 3s 16ms/step - loss: 1.1998 - accuracy: 0.5810 - val_loss: 1.0505 - val_accuracy: 0.6448\n",
            "Epoch 9/200\n",
            "220/220 [==============================] - 3s 16ms/step - loss: 1.1705 - accuracy: 0.5918 - val_loss: 1.0212 - val_accuracy: 0.6442\n",
            "Epoch 10/200\n",
            "220/220 [==============================] - 4s 16ms/step - loss: 1.1054 - accuracy: 0.6151 - val_loss: 0.9764 - val_accuracy: 0.6436\n",
            "Epoch 11/200\n",
            "220/220 [==============================] - 4s 16ms/step - loss: 1.0659 - accuracy: 0.6202 - val_loss: 0.9318 - val_accuracy: 0.6828\n",
            "Epoch 12/200\n",
            "220/220 [==============================] - 4s 16ms/step - loss: 1.0240 - accuracy: 0.6296 - val_loss: 0.9369 - val_accuracy: 0.6661\n",
            "Epoch 13/200\n",
            "220/220 [==============================] - 3s 16ms/step - loss: 1.0165 - accuracy: 0.6305 - val_loss: 0.9131 - val_accuracy: 0.6655\n",
            "Epoch 14/200\n",
            "220/220 [==============================] - 4s 16ms/step - loss: 0.9795 - accuracy: 0.6435 - val_loss: 0.9094 - val_accuracy: 0.6788\n",
            "Epoch 15/200\n",
            "220/220 [==============================] - 3s 16ms/step - loss: 0.9556 - accuracy: 0.6543 - val_loss: 0.8535 - val_accuracy: 0.6961\n",
            "Epoch 16/200\n",
            "220/220 [==============================] - 4s 16ms/step - loss: 0.9391 - accuracy: 0.6626 - val_loss: 0.8545 - val_accuracy: 0.6880\n",
            "Epoch 17/200\n",
            "220/220 [==============================] - 3s 16ms/step - loss: 0.9087 - accuracy: 0.6609 - val_loss: 0.8600 - val_accuracy: 0.6822\n",
            "Epoch 18/200\n",
            "220/220 [==============================] - 3s 16ms/step - loss: 0.9118 - accuracy: 0.6603 - val_loss: 0.8251 - val_accuracy: 0.6995\n",
            "Epoch 19/200\n",
            "220/220 [==============================] - 3s 15ms/step - loss: 0.8900 - accuracy: 0.6745 - val_loss: 0.8064 - val_accuracy: 0.7111\n",
            "Epoch 20/200\n",
            "220/220 [==============================] - 4s 16ms/step - loss: 0.8712 - accuracy: 0.6816 - val_loss: 0.8301 - val_accuracy: 0.6920\n",
            "Epoch 21/200\n",
            "220/220 [==============================] - 4s 18ms/step - loss: 0.8687 - accuracy: 0.6819 - val_loss: 0.8146 - val_accuracy: 0.7093\n",
            "Epoch 22/200\n",
            "220/220 [==============================] - 4s 16ms/step - loss: 0.8365 - accuracy: 0.6907 - val_loss: 0.8071 - val_accuracy: 0.7036\n",
            "Epoch 23/200\n",
            "220/220 [==============================] - 4s 16ms/step - loss: 0.8346 - accuracy: 0.6913 - val_loss: 0.7708 - val_accuracy: 0.7134\n",
            "Epoch 24/200\n",
            "220/220 [==============================] - 4s 16ms/step - loss: 0.8146 - accuracy: 0.6973 - val_loss: 0.7861 - val_accuracy: 0.7116\n",
            "Epoch 25/200\n",
            "220/220 [==============================] - 4s 16ms/step - loss: 0.8172 - accuracy: 0.6973 - val_loss: 0.7555 - val_accuracy: 0.7243\n",
            "Epoch 26/200\n",
            "220/220 [==============================] - 4s 16ms/step - loss: 0.7982 - accuracy: 0.7038 - val_loss: 0.7640 - val_accuracy: 0.7238\n",
            "Epoch 27/200\n",
            "220/220 [==============================] - 3s 16ms/step - loss: 0.7876 - accuracy: 0.7092 - val_loss: 0.7492 - val_accuracy: 0.7226\n",
            "Epoch 28/200\n",
            "220/220 [==============================] - 4s 16ms/step - loss: 0.7858 - accuracy: 0.7030 - val_loss: 0.7467 - val_accuracy: 0.7353\n",
            "Epoch 29/200\n",
            "220/220 [==============================] - 4s 18ms/step - loss: 0.7579 - accuracy: 0.7197 - val_loss: 0.7540 - val_accuracy: 0.7191\n",
            "Epoch 30/200\n",
            "220/220 [==============================] - 3s 16ms/step - loss: 0.7751 - accuracy: 0.7018 - val_loss: 0.7294 - val_accuracy: 0.7284\n",
            "Epoch 31/200\n",
            "220/220 [==============================] - 3s 16ms/step - loss: 0.7532 - accuracy: 0.7183 - val_loss: 0.7518 - val_accuracy: 0.7116\n",
            "Epoch 32/200\n",
            "220/220 [==============================] - 3s 16ms/step - loss: 0.7504 - accuracy: 0.7175 - val_loss: 0.6988 - val_accuracy: 0.7503\n",
            "Epoch 33/200\n",
            "220/220 [==============================] - 4s 16ms/step - loss: 0.7278 - accuracy: 0.7271 - val_loss: 0.7244 - val_accuracy: 0.7388\n",
            "Epoch 34/200\n",
            "220/220 [==============================] - 4s 16ms/step - loss: 0.7414 - accuracy: 0.7328 - val_loss: 0.6985 - val_accuracy: 0.7491\n",
            "Epoch 35/200\n",
            "220/220 [==============================] - 4s 16ms/step - loss: 0.7346 - accuracy: 0.7211 - val_loss: 0.6836 - val_accuracy: 0.7659\n",
            "Epoch 36/200\n",
            "220/220 [==============================] - 4s 16ms/step - loss: 0.7149 - accuracy: 0.7337 - val_loss: 0.6813 - val_accuracy: 0.7561\n",
            "Epoch 37/200\n",
            "220/220 [==============================] - 3s 16ms/step - loss: 0.7230 - accuracy: 0.7334 - val_loss: 0.6764 - val_accuracy: 0.7555\n",
            "Epoch 38/200\n",
            "220/220 [==============================] - 4s 16ms/step - loss: 0.7034 - accuracy: 0.7331 - val_loss: 0.7133 - val_accuracy: 0.7318\n",
            "Epoch 39/200\n",
            "220/220 [==============================] - 4s 16ms/step - loss: 0.7034 - accuracy: 0.7334 - val_loss: 0.6816 - val_accuracy: 0.7491\n",
            "Epoch 40/200\n",
            "220/220 [==============================] - 3s 16ms/step - loss: 0.7100 - accuracy: 0.7271 - val_loss: 0.6588 - val_accuracy: 0.7607\n",
            "Epoch 41/200\n",
            "220/220 [==============================] - 4s 16ms/step - loss: 0.6872 - accuracy: 0.7490 - val_loss: 0.6650 - val_accuracy: 0.7728\n",
            "Epoch 42/200\n",
            "220/220 [==============================] - 4s 16ms/step - loss: 0.6813 - accuracy: 0.7433 - val_loss: 0.6913 - val_accuracy: 0.7324\n",
            "Epoch 43/200\n",
            "220/220 [==============================] - 4s 16ms/step - loss: 0.6790 - accuracy: 0.7442 - val_loss: 0.6407 - val_accuracy: 0.7699\n",
            "Epoch 44/200\n",
            "220/220 [==============================] - 4s 19ms/step - loss: 0.6608 - accuracy: 0.7493 - val_loss: 0.6405 - val_accuracy: 0.7618\n",
            "Epoch 45/200\n",
            "220/220 [==============================] - 3s 15ms/step - loss: 0.6612 - accuracy: 0.7564 - val_loss: 0.6414 - val_accuracy: 0.7705\n",
            "Epoch 46/200\n",
            "220/220 [==============================] - 3s 16ms/step - loss: 0.6599 - accuracy: 0.7510 - val_loss: 0.6512 - val_accuracy: 0.7659\n",
            "Epoch 47/200\n",
            "220/220 [==============================] - 4s 16ms/step - loss: 0.6561 - accuracy: 0.7527 - val_loss: 0.6290 - val_accuracy: 0.7745\n",
            "Epoch 48/200\n",
            "220/220 [==============================] - 4s 16ms/step - loss: 0.6463 - accuracy: 0.7678 - val_loss: 0.6292 - val_accuracy: 0.7693\n",
            "Epoch 49/200\n",
            "220/220 [==============================] - 4s 16ms/step - loss: 0.6501 - accuracy: 0.7584 - val_loss: 0.6217 - val_accuracy: 0.7757\n",
            "Epoch 50/200\n",
            "220/220 [==============================] - 4s 16ms/step - loss: 0.6358 - accuracy: 0.7618 - val_loss: 0.6259 - val_accuracy: 0.7785\n",
            "Epoch 51/200\n",
            "220/220 [==============================] - 4s 20ms/step - loss: 0.6377 - accuracy: 0.7638 - val_loss: 0.6239 - val_accuracy: 0.7676\n",
            "Epoch 52/200\n",
            "220/220 [==============================] - 4s 16ms/step - loss: 0.6232 - accuracy: 0.7700 - val_loss: 0.6311 - val_accuracy: 0.7659\n",
            "Epoch 53/200\n",
            "220/220 [==============================] - 4s 16ms/step - loss: 0.6176 - accuracy: 0.7726 - val_loss: 0.6204 - val_accuracy: 0.7797\n",
            "Epoch 54/200\n",
            "220/220 [==============================] - 4s 16ms/step - loss: 0.6115 - accuracy: 0.7717 - val_loss: 0.6028 - val_accuracy: 0.7860\n",
            "Epoch 55/200\n",
            "220/220 [==============================] - 4s 16ms/step - loss: 0.6192 - accuracy: 0.7675 - val_loss: 0.6289 - val_accuracy: 0.7607\n",
            "Epoch 56/200\n",
            "220/220 [==============================] - 4s 16ms/step - loss: 0.6099 - accuracy: 0.7723 - val_loss: 0.6016 - val_accuracy: 0.7866\n",
            "Epoch 57/200\n",
            "220/220 [==============================] - 4s 16ms/step - loss: 0.6033 - accuracy: 0.7763 - val_loss: 0.6049 - val_accuracy: 0.7809\n",
            "Epoch 58/200\n",
            "220/220 [==============================] - 4s 16ms/step - loss: 0.6027 - accuracy: 0.7774 - val_loss: 0.5970 - val_accuracy: 0.7826\n",
            "Epoch 59/200\n",
            "220/220 [==============================] - 4s 16ms/step - loss: 0.5970 - accuracy: 0.7797 - val_loss: 0.6093 - val_accuracy: 0.7699\n",
            "Epoch 60/200\n",
            "220/220 [==============================] - 4s 16ms/step - loss: 0.6054 - accuracy: 0.7686 - val_loss: 0.6115 - val_accuracy: 0.7687\n",
            "Epoch 61/200\n",
            "220/220 [==============================] - 3s 16ms/step - loss: 0.6001 - accuracy: 0.7749 - val_loss: 0.5893 - val_accuracy: 0.7837\n",
            "Epoch 62/200\n",
            "220/220 [==============================] - 4s 16ms/step - loss: 0.5747 - accuracy: 0.7894 - val_loss: 0.5824 - val_accuracy: 0.7878\n",
            "Epoch 63/200\n",
            "220/220 [==============================] - 3s 16ms/step - loss: 0.5839 - accuracy: 0.7771 - val_loss: 0.5777 - val_accuracy: 0.7878\n",
            "Epoch 64/200\n",
            "220/220 [==============================] - 3s 16ms/step - loss: 0.5798 - accuracy: 0.7831 - val_loss: 0.5763 - val_accuracy: 0.7855\n",
            "Epoch 65/200\n",
            "220/220 [==============================] - 3s 16ms/step - loss: 0.5752 - accuracy: 0.7865 - val_loss: 0.6013 - val_accuracy: 0.7780\n",
            "Epoch 66/200\n",
            "220/220 [==============================] - 3s 16ms/step - loss: 0.5555 - accuracy: 0.7948 - val_loss: 0.5966 - val_accuracy: 0.7785\n",
            "Epoch 67/200\n",
            "220/220 [==============================] - 4s 16ms/step - loss: 0.5685 - accuracy: 0.7857 - val_loss: 0.5915 - val_accuracy: 0.7785\n",
            "Epoch 68/200\n",
            "220/220 [==============================] - 3s 16ms/step - loss: 0.5673 - accuracy: 0.7928 - val_loss: 0.5713 - val_accuracy: 0.7889\n",
            "Epoch 69/200\n",
            "220/220 [==============================] - 4s 16ms/step - loss: 0.5602 - accuracy: 0.7914 - val_loss: 0.5721 - val_accuracy: 0.7941\n",
            "Epoch 70/200\n",
            "220/220 [==============================] - 3s 16ms/step - loss: 0.5460 - accuracy: 0.7945 - val_loss: 0.5622 - val_accuracy: 0.7935\n",
            "Epoch 71/200\n",
            "220/220 [==============================] - 4s 17ms/step - loss: 0.5494 - accuracy: 0.7942 - val_loss: 0.5727 - val_accuracy: 0.7924\n",
            "Epoch 72/200\n",
            "220/220 [==============================] - 3s 16ms/step - loss: 0.5500 - accuracy: 0.7959 - val_loss: 0.5675 - val_accuracy: 0.7924\n",
            "Epoch 73/200\n",
            "220/220 [==============================] - 4s 16ms/step - loss: 0.5429 - accuracy: 0.7996 - val_loss: 0.5591 - val_accuracy: 0.7982\n",
            "Epoch 74/200\n",
            "220/220 [==============================] - 4s 17ms/step - loss: 0.5511 - accuracy: 0.7982 - val_loss: 0.5556 - val_accuracy: 0.7889\n",
            "Epoch 75/200\n",
            "220/220 [==============================] - 4s 16ms/step - loss: 0.5470 - accuracy: 0.7985 - val_loss: 0.5541 - val_accuracy: 0.7970\n",
            "Epoch 76/200\n",
            "220/220 [==============================] - 4s 17ms/step - loss: 0.5313 - accuracy: 0.8030 - val_loss: 0.5962 - val_accuracy: 0.7745\n",
            "Epoch 77/200\n",
            "220/220 [==============================] - 4s 17ms/step - loss: 0.5304 - accuracy: 0.8024 - val_loss: 0.5545 - val_accuracy: 0.7907\n",
            "Epoch 78/200\n",
            "220/220 [==============================] - 4s 17ms/step - loss: 0.5376 - accuracy: 0.7976 - val_loss: 0.5678 - val_accuracy: 0.7855\n",
            "Epoch 79/200\n",
            "220/220 [==============================] - 4s 16ms/step - loss: 0.5249 - accuracy: 0.8044 - val_loss: 0.5505 - val_accuracy: 0.7918\n",
            "Epoch 80/200\n",
            "220/220 [==============================] - 4s 16ms/step - loss: 0.5251 - accuracy: 0.8098 - val_loss: 0.5345 - val_accuracy: 0.8005\n",
            "Epoch 81/200\n",
            "220/220 [==============================] - 4s 16ms/step - loss: 0.5173 - accuracy: 0.8064 - val_loss: 0.5859 - val_accuracy: 0.7791\n",
            "Epoch 82/200\n",
            "220/220 [==============================] - 4s 16ms/step - loss: 0.5222 - accuracy: 0.8081 - val_loss: 0.5621 - val_accuracy: 0.7860\n",
            "Epoch 83/200\n",
            "220/220 [==============================] - 4s 16ms/step - loss: 0.5108 - accuracy: 0.8093 - val_loss: 0.5567 - val_accuracy: 0.7924\n",
            "Epoch 84/200\n",
            "220/220 [==============================] - 4s 16ms/step - loss: 0.5165 - accuracy: 0.8104 - val_loss: 0.5556 - val_accuracy: 0.7947\n",
            "Epoch 85/200\n",
            "220/220 [==============================] - 4s 16ms/step - loss: 0.5078 - accuracy: 0.8093 - val_loss: 0.5325 - val_accuracy: 0.8097\n",
            "Epoch 86/200\n",
            "220/220 [==============================] - 4s 16ms/step - loss: 0.5133 - accuracy: 0.8078 - val_loss: 0.5459 - val_accuracy: 0.7987\n",
            "Epoch 87/200\n",
            "220/220 [==============================] - 4s 16ms/step - loss: 0.5071 - accuracy: 0.8184 - val_loss: 0.5340 - val_accuracy: 0.8033\n",
            "Epoch 88/200\n",
            "220/220 [==============================] - 4s 16ms/step - loss: 0.4930 - accuracy: 0.8138 - val_loss: 0.5354 - val_accuracy: 0.7953\n",
            "Epoch 89/200\n",
            "220/220 [==============================] - 3s 16ms/step - loss: 0.4946 - accuracy: 0.8218 - val_loss: 0.5233 - val_accuracy: 0.8039\n",
            "Epoch 90/200\n",
            "220/220 [==============================] - 4s 16ms/step - loss: 0.4974 - accuracy: 0.8130 - val_loss: 0.5337 - val_accuracy: 0.7982\n",
            "Epoch 91/200\n",
            "220/220 [==============================] - 4s 16ms/step - loss: 0.4929 - accuracy: 0.8172 - val_loss: 0.5391 - val_accuracy: 0.8010\n",
            "Epoch 92/200\n",
            "220/220 [==============================] - 4s 16ms/step - loss: 0.4936 - accuracy: 0.8235 - val_loss: 0.5377 - val_accuracy: 0.7958\n",
            "Epoch 93/200\n",
            "220/220 [==============================] - 4s 16ms/step - loss: 0.4806 - accuracy: 0.8249 - val_loss: 0.5244 - val_accuracy: 0.8005\n",
            "Epoch 94/200\n",
            "220/220 [==============================] - 4s 16ms/step - loss: 0.4797 - accuracy: 0.8215 - val_loss: 0.5475 - val_accuracy: 0.7987\n",
            "Epoch 95/200\n",
            "220/220 [==============================] - 4s 16ms/step - loss: 0.4834 - accuracy: 0.8172 - val_loss: 0.5173 - val_accuracy: 0.8103\n",
            "Epoch 96/200\n",
            "220/220 [==============================] - 4s 16ms/step - loss: 0.4809 - accuracy: 0.8243 - val_loss: 0.5282 - val_accuracy: 0.8045\n",
            "Epoch 97/200\n",
            "220/220 [==============================] - 4s 16ms/step - loss: 0.4869 - accuracy: 0.8212 - val_loss: 0.5334 - val_accuracy: 0.7964\n",
            "Epoch 98/200\n",
            "220/220 [==============================] - 3s 16ms/step - loss: 0.4715 - accuracy: 0.8283 - val_loss: 0.5108 - val_accuracy: 0.8068\n",
            "Epoch 99/200\n",
            "220/220 [==============================] - 4s 17ms/step - loss: 0.4725 - accuracy: 0.8255 - val_loss: 0.5588 - val_accuracy: 0.7912\n",
            "Epoch 100/200\n",
            "220/220 [==============================] - 4s 17ms/step - loss: 0.4756 - accuracy: 0.8226 - val_loss: 0.5405 - val_accuracy: 0.7987\n",
            "Epoch 101/200\n",
            "220/220 [==============================] - 3s 16ms/step - loss: 0.4599 - accuracy: 0.8354 - val_loss: 0.5145 - val_accuracy: 0.8062\n",
            "Epoch 102/200\n",
            "220/220 [==============================] - 4s 16ms/step - loss: 0.4532 - accuracy: 0.8360 - val_loss: 0.5212 - val_accuracy: 0.8057\n",
            "Epoch 103/200\n",
            "220/220 [==============================] - 4s 16ms/step - loss: 0.4656 - accuracy: 0.8366 - val_loss: 0.5033 - val_accuracy: 0.8103\n",
            "Epoch 104/200\n",
            "220/220 [==============================] - 4s 16ms/step - loss: 0.4596 - accuracy: 0.8303 - val_loss: 0.5172 - val_accuracy: 0.8080\n",
            "Epoch 105/200\n",
            "220/220 [==============================] - 4s 16ms/step - loss: 0.4532 - accuracy: 0.8331 - val_loss: 0.5083 - val_accuracy: 0.8120\n",
            "Epoch 106/200\n",
            "220/220 [==============================] - 4s 16ms/step - loss: 0.4570 - accuracy: 0.8297 - val_loss: 0.5248 - val_accuracy: 0.7970\n",
            "Epoch 107/200\n",
            "220/220 [==============================] - 4s 17ms/step - loss: 0.4479 - accuracy: 0.8320 - val_loss: 0.4977 - val_accuracy: 0.8126\n",
            "Epoch 108/200\n",
            "220/220 [==============================] - 4s 16ms/step - loss: 0.4479 - accuracy: 0.8363 - val_loss: 0.5151 - val_accuracy: 0.8085\n",
            "Epoch 109/200\n",
            "220/220 [==============================] - 4s 16ms/step - loss: 0.4471 - accuracy: 0.8334 - val_loss: 0.5009 - val_accuracy: 0.8085\n",
            "Epoch 110/200\n",
            "220/220 [==============================] - 4s 16ms/step - loss: 0.4430 - accuracy: 0.8371 - val_loss: 0.5016 - val_accuracy: 0.8172\n",
            "Epoch 111/200\n",
            "220/220 [==============================] - 4s 17ms/step - loss: 0.4551 - accuracy: 0.8326 - val_loss: 0.4989 - val_accuracy: 0.8108\n",
            "Epoch 112/200\n",
            "220/220 [==============================] - 4s 16ms/step - loss: 0.4401 - accuracy: 0.8411 - val_loss: 0.5308 - val_accuracy: 0.8010\n",
            "Epoch 113/200\n",
            "220/220 [==============================] - 4s 16ms/step - loss: 0.4364 - accuracy: 0.8408 - val_loss: 0.5129 - val_accuracy: 0.8097\n",
            "Epoch 114/200\n",
            "220/220 [==============================] - 4s 16ms/step - loss: 0.4394 - accuracy: 0.8377 - val_loss: 0.4991 - val_accuracy: 0.8085\n",
            "Epoch 115/200\n",
            "220/220 [==============================] - 4s 16ms/step - loss: 0.4379 - accuracy: 0.8383 - val_loss: 0.5038 - val_accuracy: 0.8137\n",
            "Epoch 116/200\n",
            "220/220 [==============================] - 4s 16ms/step - loss: 0.4334 - accuracy: 0.8422 - val_loss: 0.4981 - val_accuracy: 0.8114\n",
            "Epoch 117/200\n",
            "220/220 [==============================] - 4s 16ms/step - loss: 0.4182 - accuracy: 0.8445 - val_loss: 0.4953 - val_accuracy: 0.8126\n",
            "Epoch 118/200\n",
            "220/220 [==============================] - 4s 16ms/step - loss: 0.4336 - accuracy: 0.8434 - val_loss: 0.4906 - val_accuracy: 0.8230\n",
            "Epoch 119/200\n",
            "220/220 [==============================] - 4s 16ms/step - loss: 0.4260 - accuracy: 0.8391 - val_loss: 0.4908 - val_accuracy: 0.8143\n",
            "Epoch 120/200\n",
            "220/220 [==============================] - 4s 16ms/step - loss: 0.4324 - accuracy: 0.8394 - val_loss: 0.4887 - val_accuracy: 0.8206\n",
            "Epoch 121/200\n",
            "220/220 [==============================] - 4s 16ms/step - loss: 0.4223 - accuracy: 0.8448 - val_loss: 0.4992 - val_accuracy: 0.8103\n",
            "Epoch 122/200\n",
            "220/220 [==============================] - 4s 16ms/step - loss: 0.4086 - accuracy: 0.8511 - val_loss: 0.4911 - val_accuracy: 0.8206\n",
            "Epoch 123/200\n",
            "220/220 [==============================] - 4s 16ms/step - loss: 0.4076 - accuracy: 0.8462 - val_loss: 0.5008 - val_accuracy: 0.8120\n",
            "Epoch 124/200\n",
            "220/220 [==============================] - 4s 16ms/step - loss: 0.4119 - accuracy: 0.8530 - val_loss: 0.4912 - val_accuracy: 0.8178\n",
            "Epoch 125/200\n",
            "220/220 [==============================] - 4s 16ms/step - loss: 0.4133 - accuracy: 0.8451 - val_loss: 0.4925 - val_accuracy: 0.8143\n",
            "Epoch 126/200\n",
            "220/220 [==============================] - 4s 16ms/step - loss: 0.4084 - accuracy: 0.8525 - val_loss: 0.4952 - val_accuracy: 0.8126\n",
            "Epoch 127/200\n",
            "220/220 [==============================] - 4s 17ms/step - loss: 0.3998 - accuracy: 0.8547 - val_loss: 0.4867 - val_accuracy: 0.8189\n",
            "Epoch 128/200\n",
            "220/220 [==============================] - 4s 16ms/step - loss: 0.4085 - accuracy: 0.8411 - val_loss: 0.5264 - val_accuracy: 0.8033\n",
            "Epoch 129/200\n",
            "220/220 [==============================] - 4s 17ms/step - loss: 0.3988 - accuracy: 0.8488 - val_loss: 0.5252 - val_accuracy: 0.8005\n",
            "Epoch 130/200\n",
            "220/220 [==============================] - 4s 16ms/step - loss: 0.3948 - accuracy: 0.8545 - val_loss: 0.5059 - val_accuracy: 0.8114\n",
            "Epoch 131/200\n",
            "220/220 [==============================] - 4s 16ms/step - loss: 0.4123 - accuracy: 0.8471 - val_loss: 0.4950 - val_accuracy: 0.8166\n",
            "Epoch 132/200\n",
            "220/220 [==============================] - 4s 16ms/step - loss: 0.3984 - accuracy: 0.8528 - val_loss: 0.4922 - val_accuracy: 0.8183\n",
            "Epoch 133/200\n",
            "220/220 [==============================] - 4s 17ms/step - loss: 0.4014 - accuracy: 0.8511 - val_loss: 0.4991 - val_accuracy: 0.8195\n",
            "Epoch 134/200\n",
            "220/220 [==============================] - 4s 17ms/step - loss: 0.3984 - accuracy: 0.8516 - val_loss: 0.4987 - val_accuracy: 0.8189\n",
            "Epoch 135/200\n",
            "220/220 [==============================] - 4s 16ms/step - loss: 0.4030 - accuracy: 0.8559 - val_loss: 0.4917 - val_accuracy: 0.8241\n",
            "Epoch 136/200\n",
            "220/220 [==============================] - 4s 16ms/step - loss: 0.3812 - accuracy: 0.8599 - val_loss: 0.4855 - val_accuracy: 0.8206\n",
            "Epoch 137/200\n",
            "220/220 [==============================] - 4s 16ms/step - loss: 0.3873 - accuracy: 0.8599 - val_loss: 0.4936 - val_accuracy: 0.8218\n",
            "Epoch 138/200\n",
            "220/220 [==============================] - 4s 17ms/step - loss: 0.3944 - accuracy: 0.8542 - val_loss: 0.4816 - val_accuracy: 0.8230\n",
            "Epoch 139/200\n",
            "220/220 [==============================] - 4s 17ms/step - loss: 0.3846 - accuracy: 0.8593 - val_loss: 0.4916 - val_accuracy: 0.8149\n",
            "Epoch 140/200\n",
            "220/220 [==============================] - 4s 16ms/step - loss: 0.3898 - accuracy: 0.8573 - val_loss: 0.4813 - val_accuracy: 0.8224\n",
            "Epoch 141/200\n",
            "220/220 [==============================] - 4s 17ms/step - loss: 0.3832 - accuracy: 0.8562 - val_loss: 0.4686 - val_accuracy: 0.8276\n",
            "Epoch 142/200\n",
            "220/220 [==============================] - 4s 16ms/step - loss: 0.3653 - accuracy: 0.8636 - val_loss: 0.4929 - val_accuracy: 0.8166\n",
            "Epoch 143/200\n",
            "220/220 [==============================] - 4s 16ms/step - loss: 0.3635 - accuracy: 0.8644 - val_loss: 0.4778 - val_accuracy: 0.8247\n",
            "Epoch 144/200\n",
            "220/220 [==============================] - 4s 17ms/step - loss: 0.3758 - accuracy: 0.8607 - val_loss: 0.4871 - val_accuracy: 0.8241\n",
            "Epoch 145/200\n",
            "220/220 [==============================] - 4s 16ms/step - loss: 0.3793 - accuracy: 0.8607 - val_loss: 0.4840 - val_accuracy: 0.8172\n",
            "Epoch 146/200\n",
            "220/220 [==============================] - 4s 17ms/step - loss: 0.3661 - accuracy: 0.8692 - val_loss: 0.4906 - val_accuracy: 0.8120\n",
            "Epoch 147/200\n",
            "220/220 [==============================] - 4s 16ms/step - loss: 0.3739 - accuracy: 0.8655 - val_loss: 0.4906 - val_accuracy: 0.8183\n",
            "Epoch 148/200\n",
            "220/220 [==============================] - 4s 16ms/step - loss: 0.3667 - accuracy: 0.8704 - val_loss: 0.4689 - val_accuracy: 0.8281\n",
            "Epoch 149/200\n",
            "220/220 [==============================] - 4s 16ms/step - loss: 0.3653 - accuracy: 0.8690 - val_loss: 0.4649 - val_accuracy: 0.8258\n",
            "Epoch 150/200\n",
            "220/220 [==============================] - 4s 16ms/step - loss: 0.3654 - accuracy: 0.8695 - val_loss: 0.4904 - val_accuracy: 0.8178\n",
            "Epoch 151/200\n",
            "220/220 [==============================] - 4s 16ms/step - loss: 0.3653 - accuracy: 0.8619 - val_loss: 0.4946 - val_accuracy: 0.8160\n",
            "Epoch 152/200\n",
            "220/220 [==============================] - 4s 16ms/step - loss: 0.3682 - accuracy: 0.8630 - val_loss: 0.4635 - val_accuracy: 0.8281\n",
            "Epoch 153/200\n",
            "220/220 [==============================] - 4s 16ms/step - loss: 0.3576 - accuracy: 0.8709 - val_loss: 0.4733 - val_accuracy: 0.8281\n",
            "Epoch 154/200\n",
            "220/220 [==============================] - 4s 17ms/step - loss: 0.3637 - accuracy: 0.8616 - val_loss: 0.4809 - val_accuracy: 0.8189\n",
            "Epoch 155/200\n",
            "220/220 [==============================] - 4s 17ms/step - loss: 0.3631 - accuracy: 0.8675 - val_loss: 0.4753 - val_accuracy: 0.8241\n",
            "Epoch 156/200\n",
            "220/220 [==============================] - 4s 17ms/step - loss: 0.3607 - accuracy: 0.8670 - val_loss: 0.4686 - val_accuracy: 0.8212\n",
            "Epoch 157/200\n",
            "220/220 [==============================] - 4s 17ms/step - loss: 0.3507 - accuracy: 0.8695 - val_loss: 0.4636 - val_accuracy: 0.8281\n",
            "Epoch 158/200\n",
            "220/220 [==============================] - 4s 16ms/step - loss: 0.3637 - accuracy: 0.8661 - val_loss: 0.4713 - val_accuracy: 0.8270\n",
            "Epoch 159/200\n",
            "220/220 [==============================] - 4s 16ms/step - loss: 0.3573 - accuracy: 0.8721 - val_loss: 0.4820 - val_accuracy: 0.8166\n",
            "Epoch 160/200\n",
            "220/220 [==============================] - 4s 16ms/step - loss: 0.3416 - accuracy: 0.8775 - val_loss: 0.4618 - val_accuracy: 0.8299\n",
            "Epoch 161/200\n",
            "220/220 [==============================] - 4s 17ms/step - loss: 0.3401 - accuracy: 0.8761 - val_loss: 0.4737 - val_accuracy: 0.8299\n",
            "Epoch 162/200\n",
            "220/220 [==============================] - 4s 16ms/step - loss: 0.3539 - accuracy: 0.8715 - val_loss: 0.4718 - val_accuracy: 0.8201\n",
            "Epoch 163/200\n",
            "220/220 [==============================] - 4s 17ms/step - loss: 0.3499 - accuracy: 0.8681 - val_loss: 0.4799 - val_accuracy: 0.8276\n",
            "Epoch 164/200\n",
            "220/220 [==============================] - 4s 17ms/step - loss: 0.3304 - accuracy: 0.8800 - val_loss: 0.4774 - val_accuracy: 0.8230\n",
            "Epoch 165/200\n",
            "220/220 [==============================] - 4s 17ms/step - loss: 0.3522 - accuracy: 0.8707 - val_loss: 0.4799 - val_accuracy: 0.8178\n",
            "Epoch 166/200\n",
            "220/220 [==============================] - 4s 17ms/step - loss: 0.3409 - accuracy: 0.8786 - val_loss: 0.4582 - val_accuracy: 0.8316\n",
            "Epoch 167/200\n",
            "220/220 [==============================] - 4s 16ms/step - loss: 0.3401 - accuracy: 0.8755 - val_loss: 0.4605 - val_accuracy: 0.8304\n",
            "Epoch 168/200\n",
            "220/220 [==============================] - 4s 16ms/step - loss: 0.3289 - accuracy: 0.8769 - val_loss: 0.4729 - val_accuracy: 0.8224\n",
            "Epoch 169/200\n",
            "220/220 [==============================] - 4s 16ms/step - loss: 0.3376 - accuracy: 0.8769 - val_loss: 0.4623 - val_accuracy: 0.8339\n",
            "Epoch 170/200\n",
            "220/220 [==============================] - 4s 17ms/step - loss: 0.3348 - accuracy: 0.8792 - val_loss: 0.4733 - val_accuracy: 0.8241\n",
            "Epoch 171/200\n",
            "220/220 [==============================] - 4s 16ms/step - loss: 0.3401 - accuracy: 0.8732 - val_loss: 0.4601 - val_accuracy: 0.8270\n",
            "Epoch 172/200\n",
            "220/220 [==============================] - 4s 16ms/step - loss: 0.3418 - accuracy: 0.8741 - val_loss: 0.4731 - val_accuracy: 0.8166\n",
            "Epoch 173/200\n",
            "220/220 [==============================] - 4s 17ms/step - loss: 0.3290 - accuracy: 0.8843 - val_loss: 0.4604 - val_accuracy: 0.8391\n",
            "Epoch 174/200\n",
            "220/220 [==============================] - 4s 17ms/step - loss: 0.3363 - accuracy: 0.8781 - val_loss: 0.4567 - val_accuracy: 0.8351\n",
            "Epoch 175/200\n",
            "220/220 [==============================] - 4s 17ms/step - loss: 0.3201 - accuracy: 0.8860 - val_loss: 0.4634 - val_accuracy: 0.8304\n",
            "Epoch 176/200\n",
            "220/220 [==============================] - 4s 17ms/step - loss: 0.3169 - accuracy: 0.8840 - val_loss: 0.4553 - val_accuracy: 0.8270\n",
            "Epoch 177/200\n",
            "220/220 [==============================] - 4s 17ms/step - loss: 0.3147 - accuracy: 0.8849 - val_loss: 0.4587 - val_accuracy: 0.8258\n",
            "Epoch 178/200\n",
            "220/220 [==============================] - 4s 17ms/step - loss: 0.3204 - accuracy: 0.8820 - val_loss: 0.4696 - val_accuracy: 0.8264\n",
            "Epoch 179/200\n",
            "220/220 [==============================] - 4s 17ms/step - loss: 0.3128 - accuracy: 0.8869 - val_loss: 0.4461 - val_accuracy: 0.8322\n",
            "Epoch 180/200\n",
            "220/220 [==============================] - 4s 17ms/step - loss: 0.3159 - accuracy: 0.8837 - val_loss: 0.4552 - val_accuracy: 0.8316\n",
            "Epoch 181/200\n",
            "220/220 [==============================] - 4s 16ms/step - loss: 0.3203 - accuracy: 0.8846 - val_loss: 0.4525 - val_accuracy: 0.8316\n",
            "Epoch 182/200\n",
            "220/220 [==============================] - 4s 16ms/step - loss: 0.3125 - accuracy: 0.8818 - val_loss: 0.4626 - val_accuracy: 0.8287\n",
            "Epoch 183/200\n",
            "220/220 [==============================] - 4s 17ms/step - loss: 0.3104 - accuracy: 0.8894 - val_loss: 0.4556 - val_accuracy: 0.8328\n",
            "Epoch 184/200\n",
            "220/220 [==============================] - 4s 16ms/step - loss: 0.3049 - accuracy: 0.8906 - val_loss: 0.4709 - val_accuracy: 0.8310\n",
            "Epoch 185/200\n",
            "220/220 [==============================] - 4s 16ms/step - loss: 0.3065 - accuracy: 0.8900 - val_loss: 0.4612 - val_accuracy: 0.8253\n",
            "Epoch 186/200\n",
            "220/220 [==============================] - 4s 16ms/step - loss: 0.3072 - accuracy: 0.8880 - val_loss: 0.4512 - val_accuracy: 0.8339\n",
            "Epoch 187/200\n",
            "220/220 [==============================] - 4s 16ms/step - loss: 0.3017 - accuracy: 0.8923 - val_loss: 0.4572 - val_accuracy: 0.8339\n",
            "Epoch 188/200\n",
            "220/220 [==============================] - 4s 16ms/step - loss: 0.3024 - accuracy: 0.8874 - val_loss: 0.4596 - val_accuracy: 0.8293\n",
            "Epoch 189/200\n",
            "220/220 [==============================] - 4s 16ms/step - loss: 0.3066 - accuracy: 0.8889 - val_loss: 0.4635 - val_accuracy: 0.8362\n",
            "Epoch 190/200\n",
            "220/220 [==============================] - 4s 17ms/step - loss: 0.2989 - accuracy: 0.8886 - val_loss: 0.4547 - val_accuracy: 0.8431\n",
            "Epoch 191/200\n",
            "220/220 [==============================] - 4s 17ms/step - loss: 0.3047 - accuracy: 0.8866 - val_loss: 0.4844 - val_accuracy: 0.8137\n",
            "Epoch 192/200\n",
            "220/220 [==============================] - 4s 17ms/step - loss: 0.2989 - accuracy: 0.8900 - val_loss: 0.4580 - val_accuracy: 0.8333\n",
            "Epoch 193/200\n",
            "220/220 [==============================] - 4s 17ms/step - loss: 0.2943 - accuracy: 0.8940 - val_loss: 0.5015 - val_accuracy: 0.8189\n",
            "Epoch 194/200\n",
            "220/220 [==============================] - 4s 17ms/step - loss: 0.3018 - accuracy: 0.8908 - val_loss: 0.4605 - val_accuracy: 0.8339\n",
            "Epoch 195/200\n",
            "220/220 [==============================] - 4s 16ms/step - loss: 0.3037 - accuracy: 0.8883 - val_loss: 0.4552 - val_accuracy: 0.8293\n",
            "Epoch 196/200\n",
            "220/220 [==============================] - 4s 17ms/step - loss: 0.2906 - accuracy: 0.8960 - val_loss: 0.4432 - val_accuracy: 0.8385\n",
            "Epoch 197/200\n",
            "220/220 [==============================] - 4s 17ms/step - loss: 0.2966 - accuracy: 0.8920 - val_loss: 0.4488 - val_accuracy: 0.8345\n",
            "Epoch 198/200\n",
            "220/220 [==============================] - 4s 17ms/step - loss: 0.2889 - accuracy: 0.8880 - val_loss: 0.4630 - val_accuracy: 0.8287\n",
            "Epoch 199/200\n",
            "220/220 [==============================] - 4s 17ms/step - loss: 0.2993 - accuracy: 0.8943 - val_loss: 0.4523 - val_accuracy: 0.8391\n",
            "Epoch 200/200\n",
            "220/220 [==============================] - 4s 16ms/step - loss: 0.2907 - accuracy: 0.8934 - val_loss: 0.4591 - val_accuracy: 0.8345\n"
          ]
        }
      ]
    },
    {
      "cell_type": "code",
      "source": [
        "plt.plot(cnnhistory.history['loss'])\n",
        "plt.plot(cnnhistory.history['val_loss'])\n",
        "plt.title('model loss')\n",
        "plt.ylabel('loss')\n",
        "plt.xlabel('epoch')\n",
        "plt.legend(['train', 'test'], loc='upper left')\n",
        "plt.show()"
      ],
      "metadata": {
        "colab": {
          "base_uri": "https://localhost:8080/",
          "height": 295
        },
        "id": "Cb-shWYwbAHm",
        "outputId": "71c725ff-f50e-4beb-dc2a-82d0dc3162de"
      },
      "execution_count": 29,
      "outputs": [
        {
          "output_type": "display_data",
          "data": {
            "text/plain": [
              "<Figure size 432x288 with 1 Axes>"
            ],
            "image/png": "[encoded data removed]"
          },
          "metadata": {
            "needs_background": "light"
          }
        }
      ]
    },
    {
      "cell_type": "code",
      "source": [
        "plt.plot(cnnhistory.history['accuracy'])\n",
        "plt.plot(cnnhistory.history['val_accuracy'])\n",
        "plt.title('model accuracy')\n",
        "plt.ylabel('accuracy')\n",
        "plt.xlabel('epoch')\n",
        "plt.legend(['train', 'test'], loc='upper left')\n",
        "plt.show()"
      ],
      "metadata": {
        "colab": {
          "base_uri": "https://localhost:8080/",
          "height": 295
        },
        "id": "4ix_JZ2vd7Sy",
        "outputId": "6a9a8751-effd-4b69-ce6d-26c53fe04d15"
      },
      "execution_count": 30,
      "outputs": [
        {
          "output_type": "display_data",
          "data": {
            "text/plain": [
              "<Figure size 432x288 with 1 Axes>"
            ],
            "image/png": "[encoded data removed]"
          },
          "metadata": {
            "needs_background": "light"
          }
        }
      ]
    },
    {
      "cell_type": "code",
      "source": [
        "#predict_x=model.predict(x_testcnn) \n",
        "#classes_x=np.argmax(predict_x,axis=1)"
      ],
      "metadata": {
        "id": "e-oUht-qd-Hk"
      },
      "execution_count": 47,
      "outputs": []
    },
    {
      "cell_type": "code",
      "source": [
        "#size(predictions)"
      ],
      "metadata": {
        "colab": {
          "base_uri": "https://localhost:8080/"
        },
        "id": "_m1Nk4IOeAnm",
        "outputId": "b9793243-6c38-46e9-ba59-b650a2e92b20"
      },
      "execution_count": 41,
      "outputs": [
        {
          "output_type": "execute_result",
          "data": {
            "text/plain": [
              "13872"
            ]
          },
          "metadata": {},
          "execution_count": 41
        }
      ]
    },
    {
      "cell_type": "code",
      "source": [
        "predictions = np.argmax(model.predict(x_testcnn),axis=1)"
      ],
      "metadata": {
        "id": "0MY2x9FzegmU"
      },
      "execution_count": 53,
      "outputs": []
    },
    {
      "cell_type": "code",
      "source": [
        "predictions"
      ],
      "metadata": {
        "colab": {
          "base_uri": "https://localhost:8080/"
        },
        "id": "RQOpi9M7gYfp",
        "outputId": "58c14bce-d419-4bd6-d50c-60c97c8b1921"
      },
      "execution_count": 54,
      "outputs": [
        {
          "output_type": "execute_result",
          "data": {
            "text/plain": [
              "array([2, 6, 5, ..., 2, 6, 5])"
            ]
          },
          "metadata": {},
          "execution_count": 54
        }
      ]
    },
    {
      "cell_type": "code",
      "source": [
        "y_test"
      ],
      "metadata": {
        "colab": {
          "base_uri": "https://localhost:8080/"
        },
        "id": "gRUfB39Tgegr",
        "outputId": "f3d51170-95ad-416c-fb58-7905b42f29ea"
      },
      "execution_count": 49,
      "outputs": [
        {
          "output_type": "execute_result",
          "data": {
            "text/plain": [
              "array([2, 6, 5, ..., 2, 6, 5])"
            ]
          },
          "metadata": {},
          "execution_count": 49
        }
      ]
    },
    {
      "cell_type": "code",
      "source": [
        "new_Ytest = y_test.astype(int)"
      ],
      "metadata": {
        "id": "6B6CwX5Ag7ox"
      },
      "execution_count": 50,
      "outputs": []
    },
    {
      "cell_type": "code",
      "source": [
        "new_Ytest"
      ],
      "metadata": {
        "colab": {
          "base_uri": "https://localhost:8080/"
        },
        "id": "N0Hgi9DhhFaM",
        "outputId": "e1df234b-c3fd-41a7-aa03-21f1d5625dab"
      },
      "execution_count": 51,
      "outputs": [
        {
          "output_type": "execute_result",
          "data": {
            "text/plain": [
              "array([2, 6, 5, ..., 2, 6, 5])"
            ]
          },
          "metadata": {},
          "execution_count": 51
        }
      ]
    },
    {
      "cell_type": "code",
      "source": [
        "from sklearn.metrics import classification_report\n",
        "report = classification_report(new_Ytest, predictions)\n",
        "print(report)"
      ],
      "metadata": {
        "colab": {
          "base_uri": "https://localhost:8080/"
        },
        "id": "rHPA0r66hH-S",
        "outputId": "0fb689f3-01b3-40e2-986e-0e38266ff2cc"
      },
      "execution_count": 55,
      "outputs": [
        {
          "output_type": "stream",
          "name": "stdout",
          "text": [
            "              precision    recall  f1-score   support\n",
            "\n",
            "           0       0.90      0.88      0.89       200\n",
            "           1       0.79      0.69      0.74       144\n",
            "           2       0.88      0.81      0.85       250\n",
            "           3       0.82      0.79      0.80       249\n",
            "           4       0.88      0.91      0.90       235\n",
            "           5       0.78      0.86      0.82       252\n",
            "           6       0.73      0.90      0.80       200\n",
            "           7       0.93      0.79      0.85       204\n",
            "\n",
            "    accuracy                           0.83      1734\n",
            "   macro avg       0.84      0.83      0.83      1734\n",
            "weighted avg       0.84      0.83      0.83      1734\n",
            "\n"
          ]
        }
      ]
    },
    {
      "cell_type": "code",
      "source": [
        "from sklearn.metrics import confusion_matrix\n",
        "matrix = confusion_matrix(new_Ytest, predictions)\n",
        "print (matrix)\n",
        "\n",
        "# 0 = neutral, 1 = calm, 2 = happy, 3 = sad, 4 = angry, 5 = fearful, 6 = disgust, 7 = surprised"
      ],
      "metadata": {
        "colab": {
          "base_uri": "https://localhost:8080/"
        },
        "id": "XyS4eY42hLX-",
        "outputId": "01de6697-9118-4de3-8e7b-f9d1a1aa7d83"
      },
      "execution_count": 56,
      "outputs": [
        {
          "output_type": "stream",
          "name": "stdout",
          "text": [
            "[[176   9   0   9   0   1   2   3]\n",
            " [  9 100  13   8   0   4  10   0]\n",
            " [  1   5 203   3   8  14  12   4]\n",
            " [  4   8   2 196   3  24  10   2]\n",
            " [  0   1   3   1 215   6   9   0]\n",
            " [  0   2   2  14   8 217   9   0]\n",
            " [  3   0   2   2   3   7 179   4]\n",
            " [  3   1   5   7   7   5  15 161]]\n"
          ]
        }
      ]
    },
    {
      "cell_type": "code",
      "source": [
        "model.save('testing10_model.h5')\n",
        "print(\"MODEL SAVED\")"
      ],
      "metadata": {
        "colab": {
          "base_uri": "https://localhost:8080/"
        },
        "id": "yQslYfiBhWdB",
        "outputId": "17dd3236-33ac-4636-8d29-d7ca8f61aac5"
      },
      "execution_count": 57,
      "outputs": [
        {
          "output_type": "stream",
          "name": "stdout",
          "text": [
            "MODEL SAVED\n"
          ]
        }
      ]
    },
    {
      "cell_type": "code",
      "source": [
        "new_model=keras.models.load_model('testing10_model.h5')\n",
        "new_model.summary()"
      ],
      "metadata": {
        "colab": {
          "base_uri": "https://localhost:8080/"
        },
        "id": "W_egGsGKhaGv",
        "outputId": "afb94245-feea-45dc-cb1b-bb9b38158dea"
      },
      "execution_count": 58,
      "outputs": [
        {
          "output_type": "stream",
          "name": "stdout",
          "text": [
            "Model: \"sequential_3\"\n",
            "_________________________________________________________________\n",
            " Layer (type)                Output Shape              Param #   \n",
            "=================================================================\n",
            " conv1d_9 (Conv1D)           (None, 40, 64)            384       \n",
            "                                                                 \n",
            " activation_12 (Activation)  (None, 40, 64)            0         \n",
            "                                                                 \n",
            " dropout_9 (Dropout)         (None, 40, 64)            0         \n",
            "                                                                 \n",
            " max_pooling1d_6 (MaxPooling  (None, 10, 64)           0         \n",
            " 1D)                                                             \n",
            "                                                                 \n",
            " conv1d_10 (Conv1D)          (None, 10, 128)           41088     \n",
            "                                                                 \n",
            " activation_13 (Activation)  (None, 10, 128)           0         \n",
            "                                                                 \n",
            " dropout_10 (Dropout)        (None, 10, 128)           0         \n",
            "                                                                 \n",
            " max_pooling1d_7 (MaxPooling  (None, 2, 128)           0         \n",
            " 1D)                                                             \n",
            "                                                                 \n",
            " conv1d_11 (Conv1D)          (None, 2, 256)            164096    \n",
            "                                                                 \n",
            " activation_14 (Activation)  (None, 2, 256)            0         \n",
            "                                                                 \n",
            " dropout_11 (Dropout)        (None, 2, 256)            0         \n",
            "                                                                 \n",
            " flatten_3 (Flatten)         (None, 512)               0         \n",
            "                                                                 \n",
            " dense_3 (Dense)             (None, 8)                 4104      \n",
            "                                                                 \n",
            " activation_15 (Activation)  (None, 8)                 0         \n",
            "                                                                 \n",
            "=================================================================\n",
            "Total params: 209,672\n",
            "Trainable params: 209,672\n",
            "Non-trainable params: 0\n",
            "_________________________________________________________________\n"
          ]
        }
      ]
    },
    {
      "cell_type": "code",
      "source": [
        "loss, acc = new_model.evaluate(x_testcnn, y_test)\n",
        "print(\"Restored model, accuracy: {:5.2f}%\".format(100*acc))"
      ],
      "metadata": {
        "colab": {
          "base_uri": "https://localhost:8080/"
        },
        "id": "-E7vF8mchcI1",
        "outputId": "d218933e-186a-462c-d91b-2f8910670b6e"
      },
      "execution_count": 59,
      "outputs": [
        {
          "output_type": "stream",
          "name": "stdout",
          "text": [
            "55/55 [==============================] - 0s 4ms/step - loss: 0.4591 - accuracy: 0.8345\n",
            "Restored model, accuracy: 83.45%\n"
          ]
        }
      ]
    },
    {
      "cell_type": "code",
      "source": [
        ""
      ],
      "metadata": {
        "id": "2-VUYSGbhfD1"
      },
      "execution_count": null,
      "outputs": []
    }
  ]
}